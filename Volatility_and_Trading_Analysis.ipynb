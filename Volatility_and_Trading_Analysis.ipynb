{
 "cells": [
  {
   "cell_type": "code",
   "execution_count": null,
   "metadata": {},
   "outputs": [],
   "source": [
    "risk_analysis = spark.sql(\"\"\"\n",
    "SELECT \n",
    "    symbol,\n",
    "    count(*) as total_intervals,\n",
    "    avg((high_price - low_price) / open_price * 100) as avg_price_range_percent,\n",
    "    max((high_price - low_price) / open_price * 100) as max_price_range_percent,\n",
    "    avg(volume) as avg_volume,\n",
    "    avg(number_of_trade) as avg_trades_per_interval,\n",
    "    avg(quote_asset_volume) as avg_quote_volume\n",
    "FROM spot_data\n",
    "GROUP BY symbol\n",
    "HAVING avg_volume > 0\n",
    "ORDER BY avg_price_range_percent DESC\n",
    "\"\"\")\n",
    "\n",
    "print(\"Trading Pair Risk Analysis:\")\n",
    "risk_analysis.show(10)\n",
    "risk_analysis.count()\n",
    "\n",
    "\n",
    "# The riskiest tokens often show extreme price movements but with less trading activity - a dangerous combination for traders. "
   ]
  },
  {
   "cell_type": "code",
   "execution_count": null,
   "metadata": {},
   "outputs": [],
   "source": [
    "# Year-wise performance for all cryptocurrencies\n",
    "yearly_analysis = spark.sql(\"\"\"\n",
    "WITH yearly_stats AS (\n",
    "    SELECT \n",
    "        symbol,\n",
    "        YEAR(open_timestamp) as trade_year,\n",
    "        MIN(open_price) as year_start_price,\n",
    "        MAX(close_price) as year_end_price,\n",
    "        AVG(volume) as avg_daily_volume,\n",
    "        AVG((high_price - low_price)/open_price) * 100 as avg_volatility\n",
    "    FROM spot_data\n",
    "    GROUP BY symbol, YEAR(open_timestamp)\n",
    ")\n",
    "SELECT \n",
    "    trade_year,\n",
    "    symbol,\n",
    "    ROUND(((year_end_price - year_start_price)/year_start_price * 100), 2) as yearly_return,\n",
    "    ROUND(avg_volatility, 2) as avg_volatility,\n",
    "    ROUND(avg_daily_volume, 2) as avg_volume\n",
    "FROM yearly_stats \n",
    "ORDER BY trade_year DESC, yearly_return DESC\n",
    "\"\"\")\n",
    "\n",
    "print(\"Year-wise Performance Analysis:\")\n",
    "yearly_analysis.show(10)"
   ]
  }
 ],
 "metadata": {
  "kernelspec": {
   "display_name": "base",
   "language": "python",
   "name": "python3"
  },
  "language_info": {
   "name": "python",
   "version": "3.11.7"
  }
 },
 "nbformat": 4,
 "nbformat_minor": 2
}

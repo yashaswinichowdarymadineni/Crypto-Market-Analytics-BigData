{
 "cells": [
  {
   "cell_type": "code",
   "execution_count": null,
   "metadata": {},
   "outputs": [],
   "source": [
    "spread_analysis = spark.sql(\"\"\"\n",
    "SELECT \n",
    "    symbol,\n",
    "    date_format(open_timestamp, 'yyyy-MM-dd') as trade_date,\n",
    "    avg((high_price - low_price) / low_price * 100) as avg_spread_percent,\n",
    "    avg(volume) as avg_volume,\n",
    "    avg(number_of_trade) as avg_trades,\n",
    "    sum(tbbav)/sum(volume)*100 as buyer_percentage\n",
    "FROM spot_data\n",
    "WHERE volume > 0\n",
    "GROUP BY symbol, date_format(open_timestamp, 'yyyy-MM-dd')\n",
    "ORDER BY avg_spread_percent DESC\n",
    "\"\"\")\n",
    "\n",
    "print(\"Market Making Opportunity Analysis:\")\n",
    "spread_analysis.show(10)\n",
    "spread_analysis.count()"
   ]
  },
  {
   "cell_type": "code",
   "execution_count": null,
   "metadata": {},
   "outputs": [],
   "source": [
    "most_traded = spark.sql(\"\"\"\n",
    "SELECT \n",
    "    symbol,\n",
    "    SUM(volume) as total_volume,\n",
    "    SUM(quote_asset_volume) as total_quote_volume,\n",
    "    SUM(number_of_trade) as total_trades,\n",
    "    AVG(close_price) as avg_price\n",
    "FROM spot_data\n",
    "GROUP BY symbol\n",
    "ORDER BY total_quote_volume DESC\n",
    "\"\"\")\n",
    "\n",
    "print(\"Most Traded Symbols:\")\n",
    "most_traded.show(10)\n",
    "most_traded.count()"
   ]
  },
  {
   "cell_type": "code",
   "execution_count": null,
   "metadata": {},
   "outputs": [],
   "source": [
    "volatile_symbols = spark.sql(\"\"\"\n",
    "SELECT \n",
    "    symbol,\n",
    "    AVG((high_price - low_price)/low_price * 100) as avg_price_range_percent,\n",
    "    MAX((high_price - low_price)/low_price * 100) as max_price_range_percent,\n",
    "    AVG(number_of_trade) as avg_trades,\n",
    "    AVG(volume) as avg_volume\n",
    "FROM spot_data\n",
    "GROUP BY symbol\n",
    "HAVING avg_volume > 0\n",
    "ORDER BY avg_price_range_percent DESC\n",
    "\"\"\")\n",
    "\n",
    "print(\"Most Volatile Symbols:\")\n",
    "volatile_symbols.show(10)\n",
    "volatile_symbols.count()"
   ]
  }
 ],
 "metadata": {
  "kernelspec": {
   "display_name": "base",
   "language": "python",
   "name": "python3"
  },
  "language_info": {
   "name": "python",
   "version": "3.11.7"
  }
 },
 "nbformat": 4,
 "nbformat_minor": 2
}

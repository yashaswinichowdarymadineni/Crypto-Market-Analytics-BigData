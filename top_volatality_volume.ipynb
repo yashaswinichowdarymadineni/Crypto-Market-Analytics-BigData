{
 "cells": [
  {
   "cell_type": "code",
   "execution_count": null,
   "metadata": {},
   "outputs": [],
   "source": [
    "# Top volatile days\n",
    "\n",
    "\n",
    "\n",
    "volatility_df = spark.sql(\"\"\"\n",
    "SELECT \n",
    "    symbol,\n",
    "    date_format(open_timestamp, 'yyyy-MM-dd') as date,\n",
    "    max(high_price) as daily_high,\n",
    "    min(low_price) as daily_low,\n",
    "    ((max(high_price) - min(low_price))/avg(close_price))*100 as daily_volatility_percentage\n",
    "FROM spot_data\n",
    "GROUP BY symbol, date_format(open_timestamp, 'yyyy-MM-dd')\n",
    "ORDER BY daily_volatility_percentage DESC\n",
    "\"\"\")\n",
    "\n",
    "print(\"Top 10 most volatile days by symbol:\")\n",
    "volatility_df.show(10)\n",
    "volatility_df.count()"
   ]
  },
  {
   "cell_type": "code",
   "execution_count": null,
   "metadata": {},
   "outputs": [],
   "source": [
    "# top volume periods \n",
    "\n",
    "volume_df = spark.sql(\"\"\"\n",
    "SELECT \n",
    "    symbol,\n",
    "    date_format(open_timestamp, 'HH:00:00') as hour_of_day,\n",
    "    avg(volume) as avg_volume,\n",
    "    avg(quote_asset_volume) as avg_quote_volume,\n",
    "    avg(number_of_trade) as avg_trades\n",
    "FROM spot_data\n",
    "GROUP BY symbol, date_format(open_timestamp, 'HH:00:00')\n",
    "ORDER BY avg_volume DESC\n",
    "\"\"\")\n",
    "\n",
    "print(\"Top 10 highest volume periods:\")\n",
    "volume_df.show(10)\n",
    "volume_df.count()"
   ]
  },
  {
   "cell_type": "code",
   "execution_count": null,
   "metadata": {},
   "outputs": [],
   "source": [
    "trading_patterns = spark.sql(\"\"\"\n",
    "SELECT \n",
    "    symbol,\n",
    "    SUM(tbbav)/SUM(volume) * 100 as buyer_dominance_percentage,\n",
    "    AVG(volume) as avg_volume,\n",
    "    AVG(number_of_trade) as avg_trades,\n",
    "    AVG((high_price - low_price)/low_price * 100) as avg_price_range_percent\n",
    "FROM spot_data\n",
    "WHERE volume > 0\n",
    "GROUP BY symbol\n",
    "ORDER BY avg_volume DESC\n",
    "\"\"\")\n",
    "\n",
    "print(\"Symbol Trading Patterns:\")\n",
    "trading_patterns.show(10)\n",
    "trading_patterns.count()"
   ]
  }
 ],
 "metadata": {
  "kernelspec": {
   "display_name": "base",
   "language": "python",
   "name": "python3"
  },
  "language_info": {
   "name": "python",
   "version": "3.11.7"
  }
 },
 "nbformat": 4,
 "nbformat_minor": 2
}

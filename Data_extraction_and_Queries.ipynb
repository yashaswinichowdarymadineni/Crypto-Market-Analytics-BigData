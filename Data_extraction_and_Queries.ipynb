{
 "cells": [
  {
   "cell_type": "markdown",
   "id": "7e05961f-20b5-4ffd-b63b-5288f2f68212",
   "metadata": {},
   "source": [
    "## DATA EXTRACTION"
   ]
  },
  {
   "cell_type": "code",
   "execution_count": 28,
   "id": "a507ea3f-787f-4f40-8921-7b8cfcfba5f5",
   "metadata": {
    "scrolled": true
   },
   "outputs": [
    {
     "name": "stdout",
     "output_type": "stream",
     "text": [
      "Requirement already satisfied: datasets in /opt/homebrew/Cellar/jupyterlab/4.3.1/libexec/lib/python3.12/site-packages (3.1.0)\n",
      "Requirement already satisfied: filelock in /opt/homebrew/Cellar/jupyterlab/4.3.1/libexec/lib/python3.12/site-packages (from datasets) (3.16.1)\n",
      "Requirement already satisfied: numpy>=1.17 in /opt/homebrew/Cellar/jupyterlab/4.3.1/libexec/lib/python3.12/site-packages (from datasets) (2.1.3)\n",
      "Requirement already satisfied: pyarrow>=15.0.0 in /opt/homebrew/Cellar/jupyterlab/4.3.1/libexec/lib/python3.12/site-packages (from datasets) (18.0.0)\n",
      "Requirement already satisfied: dill<0.3.9,>=0.3.0 in /opt/homebrew/Cellar/jupyterlab/4.3.1/libexec/lib/python3.12/site-packages (from datasets) (0.3.8)\n",
      "Requirement already satisfied: pandas in /opt/homebrew/Cellar/jupyterlab/4.3.1/libexec/lib/python3.12/site-packages (from datasets) (2.2.3)\n",
      "Requirement already satisfied: requests>=2.32.2 in /opt/homebrew/Cellar/jupyterlab/4.3.1/libexec/lib/python3.12/site-packages (from datasets) (2.32.3)\n",
      "Requirement already satisfied: tqdm>=4.66.3 in /opt/homebrew/Cellar/jupyterlab/4.3.1/libexec/lib/python3.12/site-packages (from datasets) (4.67.0)\n",
      "Requirement already satisfied: xxhash in /opt/homebrew/Cellar/jupyterlab/4.3.1/libexec/lib/python3.12/site-packages (from datasets) (3.5.0)\n",
      "Requirement already satisfied: multiprocess<0.70.17 in /opt/homebrew/Cellar/jupyterlab/4.3.1/libexec/lib/python3.12/site-packages (from datasets) (0.70.16)\n",
      "Requirement already satisfied: fsspec<=2024.9.0,>=2023.1.0 in /opt/homebrew/Cellar/jupyterlab/4.3.1/libexec/lib/python3.12/site-packages (from fsspec[http]<=2024.9.0,>=2023.1.0->datasets) (2024.9.0)\n",
      "Requirement already satisfied: aiohttp in /opt/homebrew/Cellar/jupyterlab/4.3.1/libexec/lib/python3.12/site-packages (from datasets) (3.11.2)\n",
      "Requirement already satisfied: huggingface-hub>=0.23.0 in /opt/homebrew/Cellar/jupyterlab/4.3.1/libexec/lib/python3.12/site-packages (from datasets) (0.26.2)\n",
      "Requirement already satisfied: packaging in /opt/homebrew/Cellar/jupyterlab/4.3.1/libexec/lib/python3.12/site-packages (from datasets) (24.2)\n",
      "Requirement already satisfied: pyyaml>=5.1 in /opt/homebrew/Cellar/jupyterlab/4.3.1/libexec/lib/python3.12/site-packages (from datasets) (6.0.2)\n",
      "Requirement already satisfied: aiohappyeyeballs>=2.3.0 in /opt/homebrew/Cellar/jupyterlab/4.3.1/libexec/lib/python3.12/site-packages (from aiohttp->datasets) (2.4.3)\n",
      "Requirement already satisfied: aiosignal>=1.1.2 in /opt/homebrew/Cellar/jupyterlab/4.3.1/libexec/lib/python3.12/site-packages (from aiohttp->datasets) (1.3.1)\n",
      "Requirement already satisfied: attrs>=17.3.0 in /opt/homebrew/Cellar/jupyterlab/4.3.1/libexec/lib/python3.12/site-packages (from aiohttp->datasets) (24.2.0)\n",
      "Requirement already satisfied: frozenlist>=1.1.1 in /opt/homebrew/Cellar/jupyterlab/4.3.1/libexec/lib/python3.12/site-packages (from aiohttp->datasets) (1.5.0)\n",
      "Requirement already satisfied: multidict<7.0,>=4.5 in /opt/homebrew/Cellar/jupyterlab/4.3.1/libexec/lib/python3.12/site-packages (from aiohttp->datasets) (6.1.0)\n",
      "Requirement already satisfied: propcache>=0.2.0 in /opt/homebrew/Cellar/jupyterlab/4.3.1/libexec/lib/python3.12/site-packages (from aiohttp->datasets) (0.2.0)\n",
      "Requirement already satisfied: yarl<2.0,>=1.17.0 in /opt/homebrew/Cellar/jupyterlab/4.3.1/libexec/lib/python3.12/site-packages (from aiohttp->datasets) (1.17.2)\n",
      "Requirement already satisfied: typing-extensions>=3.7.4.3 in /opt/homebrew/Cellar/jupyterlab/4.3.1/libexec/lib/python3.12/site-packages (from huggingface-hub>=0.23.0->datasets) (4.12.2)\n",
      "Requirement already satisfied: charset-normalizer<4,>=2 in /opt/homebrew/Cellar/jupyterlab/4.3.1/libexec/lib/python3.12/site-packages (from requests>=2.32.2->datasets) (3.4.0)\n",
      "Requirement already satisfied: idna<4,>=2.5 in /opt/homebrew/Cellar/jupyterlab/4.3.1/libexec/lib/python3.12/site-packages (from requests>=2.32.2->datasets) (3.10)\n",
      "Requirement already satisfied: urllib3<3,>=1.21.1 in /opt/homebrew/Cellar/jupyterlab/4.3.1/libexec/lib/python3.12/site-packages (from requests>=2.32.2->datasets) (2.2.3)\n",
      "Requirement already satisfied: certifi>=2017.4.17 in /opt/homebrew/opt/certifi/lib/python3.12/site-packages (from requests>=2.32.2->datasets) (2024.8.30)\n",
      "Requirement already satisfied: python-dateutil>=2.8.2 in /opt/homebrew/Cellar/jupyterlab/4.3.1/libexec/lib/python3.12/site-packages (from pandas->datasets) (2.9.0.post0)\n",
      "Requirement already satisfied: pytz>=2020.1 in /opt/homebrew/Cellar/jupyterlab/4.3.1/libexec/lib/python3.12/site-packages (from pandas->datasets) (2024.2)\n",
      "Requirement already satisfied: tzdata>=2022.7 in /opt/homebrew/Cellar/jupyterlab/4.3.1/libexec/lib/python3.12/site-packages (from pandas->datasets) (2024.2)\n",
      "Requirement already satisfied: six>=1.5 in /opt/homebrew/Cellar/jupyterlab/4.3.1/libexec/lib/python3.12/site-packages (from python-dateutil>=2.8.2->pandas->datasets) (1.16.0)\n",
      "\n",
      "\u001b[1m[\u001b[0m\u001b[34;49mnotice\u001b[0m\u001b[1;39;49m]\u001b[0m\u001b[39;49m A new release of pip is available: \u001b[0m\u001b[31;49m24.2\u001b[0m\u001b[39;49m -> \u001b[0m\u001b[32;49m24.3.1\u001b[0m\n",
      "\u001b[1m[\u001b[0m\u001b[34;49mnotice\u001b[0m\u001b[1;39;49m]\u001b[0m\u001b[39;49m To update, run: \u001b[0m\u001b[32;49m/opt/homebrew/Cellar/jupyterlab/4.3.1/libexec/bin/python -m pip install --upgrade pip\u001b[0m\n",
      "Note: you may need to restart the kernel to use updated packages.\n"
     ]
    }
   ],
   "source": [
    "pip install datasets"
   ]
  },
  {
   "cell_type": "code",
   "execution_count": 24,
   "id": "f29b11b5-6a0a-401a-bc6d-1878d9d7e8c4",
   "metadata": {
    "scrolled": true
   },
   "outputs": [
    {
     "name": "stdout",
     "output_type": "stream",
     "text": [
      "Requirement already satisfied: huggingface_hub in /opt/homebrew/Cellar/jupyterlab/4.3.1/libexec/lib/python3.12/site-packages (0.26.2)\n",
      "Requirement already satisfied: filelock in /opt/homebrew/Cellar/jupyterlab/4.3.1/libexec/lib/python3.12/site-packages (from huggingface_hub) (3.16.1)\n",
      "Requirement already satisfied: fsspec>=2023.5.0 in /opt/homebrew/Cellar/jupyterlab/4.3.1/libexec/lib/python3.12/site-packages (from huggingface_hub) (2024.9.0)\n",
      "Requirement already satisfied: packaging>=20.9 in /opt/homebrew/Cellar/jupyterlab/4.3.1/libexec/lib/python3.12/site-packages (from huggingface_hub) (24.2)\n",
      "Requirement already satisfied: pyyaml>=5.1 in /opt/homebrew/Cellar/jupyterlab/4.3.1/libexec/lib/python3.12/site-packages (from huggingface_hub) (6.0.2)\n",
      "Requirement already satisfied: requests in /opt/homebrew/Cellar/jupyterlab/4.3.1/libexec/lib/python3.12/site-packages (from huggingface_hub) (2.32.3)\n",
      "Requirement already satisfied: tqdm>=4.42.1 in /opt/homebrew/Cellar/jupyterlab/4.3.1/libexec/lib/python3.12/site-packages (from huggingface_hub) (4.67.0)\n",
      "Requirement already satisfied: typing-extensions>=3.7.4.3 in /opt/homebrew/Cellar/jupyterlab/4.3.1/libexec/lib/python3.12/site-packages (from huggingface_hub) (4.12.2)\n",
      "Requirement already satisfied: charset-normalizer<4,>=2 in /opt/homebrew/Cellar/jupyterlab/4.3.1/libexec/lib/python3.12/site-packages (from requests->huggingface_hub) (3.4.0)\n",
      "Requirement already satisfied: idna<4,>=2.5 in /opt/homebrew/Cellar/jupyterlab/4.3.1/libexec/lib/python3.12/site-packages (from requests->huggingface_hub) (3.10)\n",
      "Requirement already satisfied: urllib3<3,>=1.21.1 in /opt/homebrew/Cellar/jupyterlab/4.3.1/libexec/lib/python3.12/site-packages (from requests->huggingface_hub) (2.2.3)\n",
      "Requirement already satisfied: certifi>=2017.4.17 in /opt/homebrew/opt/certifi/lib/python3.12/site-packages (from requests->huggingface_hub) (2024.8.30)\n",
      "\n",
      "\u001b[1m[\u001b[0m\u001b[34;49mnotice\u001b[0m\u001b[1;39;49m]\u001b[0m\u001b[39;49m A new release of pip is available: \u001b[0m\u001b[31;49m24.2\u001b[0m\u001b[39;49m -> \u001b[0m\u001b[32;49m24.3.1\u001b[0m\n",
      "\u001b[1m[\u001b[0m\u001b[34;49mnotice\u001b[0m\u001b[1;39;49m]\u001b[0m\u001b[39;49m To update, run: \u001b[0m\u001b[32;49m/opt/homebrew/Cellar/jupyterlab/4.3.1/libexec/bin/python -m pip install --upgrade pip\u001b[0m\n",
      "Note: you may need to restart the kernel to use updated packages.\n"
     ]
    }
   ],
   "source": [
    "pip install huggingface_hub"
   ]
  },
  {
   "cell_type": "code",
   "execution_count": 30,
   "id": "5e4a6a59-9f27-4c4b-8697-74a8acc292af",
   "metadata": {
    "scrolled": true
   },
   "outputs": [
    {
     "name": "stdout",
     "output_type": "stream",
     "text": [
      "Requirement already satisfied: ipywidgets in /opt/homebrew/Cellar/jupyterlab/4.3.1/libexec/lib/python3.12/site-packages (8.1.5)\n",
      "Requirement already satisfied: comm>=0.1.3 in /opt/homebrew/Cellar/jupyterlab/4.3.1/libexec/lib/python3.12/site-packages (from ipywidgets) (0.2.2)\n",
      "Requirement already satisfied: ipython>=6.1.0 in /opt/homebrew/Cellar/jupyterlab/4.3.1/libexec/lib/python3.12/site-packages (from ipywidgets) (8.29.0)\n",
      "Requirement already satisfied: traitlets>=4.3.1 in /opt/homebrew/Cellar/jupyterlab/4.3.1/libexec/lib/python3.12/site-packages (from ipywidgets) (5.14.3)\n",
      "Requirement already satisfied: widgetsnbextension~=4.0.12 in /opt/homebrew/Cellar/jupyterlab/4.3.1/libexec/lib/python3.12/site-packages (from ipywidgets) (4.0.13)\n",
      "Requirement already satisfied: jupyterlab-widgets~=3.0.12 in /opt/homebrew/Cellar/jupyterlab/4.3.1/libexec/lib/python3.12/site-packages (from ipywidgets) (3.0.13)\n",
      "Requirement already satisfied: decorator in /opt/homebrew/Cellar/jupyterlab/4.3.1/libexec/lib/python3.12/site-packages (from ipython>=6.1.0->ipywidgets) (5.1.1)\n",
      "Requirement already satisfied: jedi>=0.16 in /opt/homebrew/Cellar/jupyterlab/4.3.1/libexec/lib/python3.12/site-packages (from ipython>=6.1.0->ipywidgets) (0.19.2)\n",
      "Requirement already satisfied: matplotlib-inline in /opt/homebrew/Cellar/jupyterlab/4.3.1/libexec/lib/python3.12/site-packages (from ipython>=6.1.0->ipywidgets) (0.1.7)\n",
      "Requirement already satisfied: prompt-toolkit<3.1.0,>=3.0.41 in /opt/homebrew/Cellar/jupyterlab/4.3.1/libexec/lib/python3.12/site-packages (from ipython>=6.1.0->ipywidgets) (3.0.48)\n",
      "Requirement already satisfied: pygments>=2.4.0 in /opt/homebrew/Cellar/jupyterlab/4.3.1/libexec/lib/python3.12/site-packages (from ipython>=6.1.0->ipywidgets) (2.18.0)\n",
      "Requirement already satisfied: stack-data in /opt/homebrew/Cellar/jupyterlab/4.3.1/libexec/lib/python3.12/site-packages (from ipython>=6.1.0->ipywidgets) (0.6.3)\n",
      "Requirement already satisfied: pexpect>4.3 in /opt/homebrew/Cellar/jupyterlab/4.3.1/libexec/lib/python3.12/site-packages (from ipython>=6.1.0->ipywidgets) (4.9.0)\n",
      "Requirement already satisfied: parso<0.9.0,>=0.8.4 in /opt/homebrew/Cellar/jupyterlab/4.3.1/libexec/lib/python3.12/site-packages (from jedi>=0.16->ipython>=6.1.0->ipywidgets) (0.8.4)\n",
      "Requirement already satisfied: ptyprocess>=0.5 in /opt/homebrew/Cellar/jupyterlab/4.3.1/libexec/lib/python3.12/site-packages (from pexpect>4.3->ipython>=6.1.0->ipywidgets) (0.7.0)\n",
      "Requirement already satisfied: wcwidth in /opt/homebrew/Cellar/jupyterlab/4.3.1/libexec/lib/python3.12/site-packages (from prompt-toolkit<3.1.0,>=3.0.41->ipython>=6.1.0->ipywidgets) (0.2.13)\n",
      "Requirement already satisfied: executing>=1.2.0 in /opt/homebrew/Cellar/jupyterlab/4.3.1/libexec/lib/python3.12/site-packages (from stack-data->ipython>=6.1.0->ipywidgets) (2.1.0)\n",
      "Requirement already satisfied: asttokens>=2.1.0 in /opt/homebrew/Cellar/jupyterlab/4.3.1/libexec/lib/python3.12/site-packages (from stack-data->ipython>=6.1.0->ipywidgets) (2.4.1)\n",
      "Requirement already satisfied: pure-eval in /opt/homebrew/Cellar/jupyterlab/4.3.1/libexec/lib/python3.12/site-packages (from stack-data->ipython>=6.1.0->ipywidgets) (0.2.3)\n",
      "Requirement already satisfied: six>=1.12.0 in /opt/homebrew/Cellar/jupyterlab/4.3.1/libexec/lib/python3.12/site-packages (from asttokens>=2.1.0->stack-data->ipython>=6.1.0->ipywidgets) (1.16.0)\n",
      "\n",
      "\u001b[1m[\u001b[0m\u001b[34;49mnotice\u001b[0m\u001b[1;39;49m]\u001b[0m\u001b[39;49m A new release of pip is available: \u001b[0m\u001b[31;49m24.2\u001b[0m\u001b[39;49m -> \u001b[0m\u001b[32;49m24.3.1\u001b[0m\n",
      "\u001b[1m[\u001b[0m\u001b[34;49mnotice\u001b[0m\u001b[1;39;49m]\u001b[0m\u001b[39;49m To update, run: \u001b[0m\u001b[32;49m/opt/homebrew/Cellar/jupyterlab/4.3.1/libexec/bin/python -m pip install --upgrade pip\u001b[0m\n",
      "Note: you may need to restart the kernel to use updated packages.\n"
     ]
    }
   ],
   "source": [
    "pip install --upgrade ipywidgets"
   ]
  },
  {
   "cell_type": "code",
   "execution_count": 7,
   "id": "d1b5aec3-1034-4ea4-85a2-42acbc86d3a9",
   "metadata": {},
   "outputs": [],
   "source": [
    "from datasets import load_dataset"
   ]
  },
  {
   "cell_type": "code",
   "execution_count": 8,
   "id": "d39ac02b-f6a5-47af-b9f7-3d056bde5443",
   "metadata": {},
   "outputs": [
    {
     "data": {
      "application/vnd.jupyter.widget-view+json": {
       "model_id": "899af33195d04af88985be3946f72dae",
       "version_major": 2,
       "version_minor": 0
      },
      "text/plain": [
       "Resolving data files:   0%|          | 0/36 [00:00<?, ?it/s]"
      ]
     },
     "metadata": {},
     "output_type": "display_data"
    },
    {
     "data": {
      "application/vnd.jupyter.widget-view+json": {
       "model_id": "a74c24baf4364872b3a49f2b5ba43e2d",
       "version_major": 2,
       "version_minor": 0
      },
      "text/plain": [
       "Resolving data files:   0%|          | 0/177 [00:00<?, ?it/s]"
      ]
     },
     "metadata": {},
     "output_type": "display_data"
    },
    {
     "data": {
      "application/vnd.jupyter.widget-view+json": {
       "model_id": "c445519bcad5450ba157bd42f2fffcea",
       "version_major": 2,
       "version_minor": 0
      },
      "text/plain": [
       "Resolving data files:   0%|          | 0/17 [00:00<?, ?it/s]"
      ]
     },
     "metadata": {},
     "output_type": "display_data"
    },
    {
     "data": {
      "application/vnd.jupyter.widget-view+json": {
       "model_id": "2d2750f1087e4edeb90b5e982ac80e05",
       "version_major": 2,
       "version_minor": 0
      },
      "text/plain": [
       "Resolving data files:   0%|          | 0/81 [00:00<?, ?it/s]"
      ]
     },
     "metadata": {},
     "output_type": "display_data"
    },
    {
     "data": {
      "application/vnd.jupyter.widget-view+json": {
       "model_id": "b367fb9440b24338a6d2a7aac9e60e3b",
       "version_major": 2,
       "version_minor": 0
      },
      "text/plain": [
       "Resolving data files:   0%|          | 0/36 [00:00<?, ?it/s]"
      ]
     },
     "metadata": {},
     "output_type": "display_data"
    },
    {
     "data": {
      "application/vnd.jupyter.widget-view+json": {
       "model_id": "656bd2e853534e589dd5ba15fa7ce11f",
       "version_major": 2,
       "version_minor": 0
      },
      "text/plain": [
       "Resolving data files:   0%|          | 0/177 [00:00<?, ?it/s]"
      ]
     },
     "metadata": {},
     "output_type": "display_data"
    },
    {
     "data": {
      "application/vnd.jupyter.widget-view+json": {
       "model_id": "651fcc9e1cc94fe2bd4e3868f188bbb6",
       "version_major": 2,
       "version_minor": 0
      },
      "text/plain": [
       "Resolving data files:   0%|          | 0/17 [00:00<?, ?it/s]"
      ]
     },
     "metadata": {},
     "output_type": "display_data"
    },
    {
     "data": {
      "application/vnd.jupyter.widget-view+json": {
       "model_id": "19697eb985284dd5a3882f2c4f0160bb",
       "version_major": 2,
       "version_minor": 0
      },
      "text/plain": [
       "Resolving data files:   0%|          | 0/81 [00:00<?, ?it/s]"
      ]
     },
     "metadata": {},
     "output_type": "display_data"
    },
    {
     "data": {
      "application/vnd.jupyter.widget-view+json": {
       "model_id": "d6517e0f57c0410b98f4f452da3b1a5e",
       "version_major": 2,
       "version_minor": 0
      },
      "text/plain": [
       "Loading dataset shards:   0%|          | 0/36 [00:00<?, ?it/s]"
      ]
     },
     "metadata": {},
     "output_type": "display_data"
    },
    {
     "data": {
      "application/vnd.jupyter.widget-view+json": {
       "model_id": "65185f68368e45a7ba40b017098bf9c5",
       "version_major": 2,
       "version_minor": 0
      },
      "text/plain": [
       "Loading dataset shards:   0%|          | 0/179 [00:00<?, ?it/s]"
      ]
     },
     "metadata": {},
     "output_type": "display_data"
    },
    {
     "data": {
      "application/vnd.jupyter.widget-view+json": {
       "model_id": "e86e7b02b4e444068f954fdb2faea46b",
       "version_major": 2,
       "version_minor": 0
      },
      "text/plain": [
       "Loading dataset shards:   0%|          | 0/17 [00:00<?, ?it/s]"
      ]
     },
     "metadata": {},
     "output_type": "display_data"
    },
    {
     "data": {
      "application/vnd.jupyter.widget-view+json": {
       "model_id": "36c532a5f9484615a27aa6669f2d35bc",
       "version_major": 2,
       "version_minor": 0
      },
      "text/plain": [
       "Loading dataset shards:   0%|          | 0/82 [00:00<?, ?it/s]"
      ]
     },
     "metadata": {},
     "output_type": "display_data"
    }
   ],
   "source": [
    "data = load_dataset(\"adamzzzz/binance-klines-20240721\", cache_dir = \"/Volumes/Raghav's MP/Big_data\")"
   ]
  },
  {
   "cell_type": "code",
   "execution_count": 5,
   "id": "320c7557-5dcc-4e5d-9d69-cf5bf5f5f2ad",
   "metadata": {},
   "outputs": [],
   "source": [
    "import pandas as pd"
   ]
  },
  {
   "cell_type": "code",
   "execution_count": 4,
   "id": "a8465375-dee7-4661-8080-8b25ebb1821d",
   "metadata": {
    "scrolled": true
   },
   "outputs": [
    {
     "data": {
      "text/plain": [
       "dict_keys(['spot.1h', 'spot.30m', 'spot.15m', 'spot.5m', 'spot.1m', 'um.1h', 'um.30m', 'um.15m', 'um.5m', 'um.1m'])"
      ]
     },
     "execution_count": 4,
     "metadata": {},
     "output_type": "execute_result"
    }
   ],
   "source": [
    "data.keys()"
   ]
  },
  {
   "cell_type": "code",
   "execution_count": 10,
   "id": "688a2164-a085-4ced-951b-1aa8c7aa4e9b",
   "metadata": {
    "scrolled": true
   },
   "outputs": [
    {
     "name": "stdout",
     "output_type": "stream",
     "text": [
      "um_1h file loaded\n",
      "um_30m file loaded\n",
      "um_15m file loaded\n",
      "um_5m file loaded\n"
     ]
    }
   ],
   "source": [
    "keys= ['spot.1h', 'spot.30m', 'spot.15m', 'spot.5m', 'spot.1m', 'um.1h', 'um.30m', 'um.15m', 'um.5m', 'um.1m']\n",
    "for key in keys:\n",
    "    df = data[key].to_pandas()\n",
    "    df.dropna(inplace=True)\n",
    "    df.drop(columns='index', inplace = True)\n",
    "    k_name = key.replace(\".\", \"_\")\n",
    "    df.to_csv(f\"/Volumes/Raghav's MP/Big_data/Data_csv/{k_name}.csv\", index=True)\n",
    "    print(f\"{k_name} file loaded\")"
   ]
  },
  {
   "cell_type": "code",
   "execution_count": null,
   "id": "5aa804d1-5712-455e-9ef8-4d000ead4a22",
   "metadata": {},
   "outputs": [],
   "source": [
    "df = pd.read_csv(\"/Volumes/Raghav's MP/Big_data/Data_csv/spot_5m.csv\")"
   ]
  },
  {
   "cell_type": "code",
   "execution_count": 1,
   "id": "dab2d711-5ad2-4de0-ac3a-a1b6b95c7c17",
   "metadata": {},
   "outputs": [
    {
     "name": "stdout",
     "output_type": "stream",
     "text": [
      "spot_30m Min: 2020-01-01 00:00:00 || Max: 2024-07-20 23:30:00\n",
      "spot_15m Min: 2020-01-01 00:00:00 || Max: 2024-07-20 23:45:00\n",
      "spot_5m Min: 2020-01-01 00:00:00 || Max: 2024-07-20 23:55:00\n",
      "um_1h Min: 2020-01-01 00:00:00 || Max: 2024-07-20 23:00:00\n",
      "um_30m Min: 2020-01-01 00:00:00 || Max: 2024-07-20 23:30:00\n",
      "um_15m Min: 2020-01-01 00:00:00 || Max: 2024-07-20 23:45:00\n",
      "um_5m Min: 2020-01-01 00:00:00 || Max: 2024-07-20 23:55:00\n"
     ]
    }
   ],
   "source": [
    "import pandas as pd\n",
    "\n",
    "files = ['spot_30m', 'spot_15m', 'spot_5m', 'um_1h', 'um_30m', 'um_15m', 'um_5m']\n",
    "for file in files:\n",
    "    min_date = None\n",
    "    max_date = None\n",
    "    chunk_size = 10**6\n",
    "\n",
    "    for chunk in pd.read_csv(f\"/Volumes/Raghav's MP/Big_data/Data_csv/{file}.csv\", chunksize=chunk_size, usecols=['open_timestamp']):\n",
    "        chunk['open_timestamp'] = pd.to_datetime(chunk['open_timestamp'])\n",
    "\n",
    "        chunk_min = chunk['open_timestamp'].min()\n",
    "        chunk_max = chunk['open_timestamp'].max()\n",
    "\n",
    "        if min_date is None or chunk_min < min_date:\n",
    "            min_date = chunk_min\n",
    "        if max_date is None or chunk_max > max_date:\n",
    "            max_date = chunk_max\n",
    "\n",
    "    print(f\"{file} Min: {min_date} || Max: {max_date}\")"
   ]
  },
  {
   "cell_type": "code",
   "execution_count": 6,
   "id": "5b1b68e5-c44b-41ed-82b8-f2d0056e35df",
   "metadata": {},
   "outputs": [
    {
     "data": {
      "text/html": [
       "<div>\n",
       "<style scoped>\n",
       "    .dataframe tbody tr th:only-of-type {\n",
       "        vertical-align: middle;\n",
       "    }\n",
       "\n",
       "    .dataframe tbody tr th {\n",
       "        vertical-align: top;\n",
       "    }\n",
       "\n",
       "    .dataframe thead th {\n",
       "        text-align: right;\n",
       "    }\n",
       "</style>\n",
       "<table border=\"1\" class=\"dataframe\">\n",
       "  <thead>\n",
       "    <tr style=\"text-align: right;\">\n",
       "      <th></th>\n",
       "      <th>Unnamed: 0</th>\n",
       "      <th>open_price</th>\n",
       "      <th>high_price</th>\n",
       "      <th>low_price</th>\n",
       "      <th>close_price</th>\n",
       "      <th>volume</th>\n",
       "      <th>close_timestamp</th>\n",
       "      <th>quote_asset_volume</th>\n",
       "      <th>number_of_trade</th>\n",
       "      <th>tbbav</th>\n",
       "      <th>tbqav</th>\n",
       "      <th>ignore</th>\n",
       "      <th>symbol</th>\n",
       "      <th>type</th>\n",
       "      <th>interval</th>\n",
       "      <th>missing</th>\n",
       "      <th>open_timestamp</th>\n",
       "    </tr>\n",
       "  </thead>\n",
       "  <tbody>\n",
       "    <tr>\n",
       "      <th>0</th>\n",
       "      <td>0</td>\n",
       "      <td>0.000243</td>\n",
       "      <td>0.000692</td>\n",
       "      <td>0.000243</td>\n",
       "      <td>0.000537</td>\n",
       "      <td>2.334397e+11</td>\n",
       "      <td>2023-12-12 12:59:59.999</td>\n",
       "      <td>1.380930e+08</td>\n",
       "      <td>370089.0</td>\n",
       "      <td>1.260450e+11</td>\n",
       "      <td>7.453887e+07</td>\n",
       "      <td>0</td>\n",
       "      <td>1000SATSUSDT</td>\n",
       "      <td>spot</td>\n",
       "      <td>1h</td>\n",
       "      <td>False</td>\n",
       "      <td>2023-12-12 12:00:00</td>\n",
       "    </tr>\n",
       "    <tr>\n",
       "      <th>1</th>\n",
       "      <td>1</td>\n",
       "      <td>0.000537</td>\n",
       "      <td>0.000579</td>\n",
       "      <td>0.000519</td>\n",
       "      <td>0.000532</td>\n",
       "      <td>6.691411e+10</td>\n",
       "      <td>2023-12-12 13:59:59.999</td>\n",
       "      <td>3.696425e+07</td>\n",
       "      <td>114049.0</td>\n",
       "      <td>3.189214e+10</td>\n",
       "      <td>1.765706e+07</td>\n",
       "      <td>0</td>\n",
       "      <td>1000SATSUSDT</td>\n",
       "      <td>spot</td>\n",
       "      <td>1h</td>\n",
       "      <td>False</td>\n",
       "      <td>2023-12-12 13:00:00</td>\n",
       "    </tr>\n",
       "    <tr>\n",
       "      <th>2</th>\n",
       "      <td>2</td>\n",
       "      <td>0.000532</td>\n",
       "      <td>0.000555</td>\n",
       "      <td>0.000486</td>\n",
       "      <td>0.000500</td>\n",
       "      <td>5.686273e+10</td>\n",
       "      <td>2023-12-12 14:59:59.999</td>\n",
       "      <td>2.927274e+07</td>\n",
       "      <td>90774.0</td>\n",
       "      <td>2.769634e+10</td>\n",
       "      <td>1.425496e+07</td>\n",
       "      <td>0</td>\n",
       "      <td>1000SATSUSDT</td>\n",
       "      <td>spot</td>\n",
       "      <td>1h</td>\n",
       "      <td>False</td>\n",
       "      <td>2023-12-12 14:00:00</td>\n",
       "    </tr>\n",
       "    <tr>\n",
       "      <th>3</th>\n",
       "      <td>3</td>\n",
       "      <td>0.000500</td>\n",
       "      <td>0.000509</td>\n",
       "      <td>0.000443</td>\n",
       "      <td>0.000503</td>\n",
       "      <td>7.392856e+10</td>\n",
       "      <td>2023-12-12 15:59:59.999</td>\n",
       "      <td>3.498529e+07</td>\n",
       "      <td>101216.0</td>\n",
       "      <td>3.438372e+10</td>\n",
       "      <td>1.630035e+07</td>\n",
       "      <td>0</td>\n",
       "      <td>1000SATSUSDT</td>\n",
       "      <td>spot</td>\n",
       "      <td>1h</td>\n",
       "      <td>False</td>\n",
       "      <td>2023-12-12 15:00:00</td>\n",
       "    </tr>\n",
       "    <tr>\n",
       "      <th>4</th>\n",
       "      <td>4</td>\n",
       "      <td>0.000503</td>\n",
       "      <td>0.000529</td>\n",
       "      <td>0.000483</td>\n",
       "      <td>0.000504</td>\n",
       "      <td>5.175700e+10</td>\n",
       "      <td>2023-12-12 16:59:59.999</td>\n",
       "      <td>2.636492e+07</td>\n",
       "      <td>82686.0</td>\n",
       "      <td>2.604044e+10</td>\n",
       "      <td>1.328257e+07</td>\n",
       "      <td>0</td>\n",
       "      <td>1000SATSUSDT</td>\n",
       "      <td>spot</td>\n",
       "      <td>1h</td>\n",
       "      <td>False</td>\n",
       "      <td>2023-12-12 16:00:00</td>\n",
       "    </tr>\n",
       "    <tr>\n",
       "      <th>...</th>\n",
       "      <td>...</td>\n",
       "      <td>...</td>\n",
       "      <td>...</td>\n",
       "      <td>...</td>\n",
       "      <td>...</td>\n",
       "      <td>...</td>\n",
       "      <td>...</td>\n",
       "      <td>...</td>\n",
       "      <td>...</td>\n",
       "      <td>...</td>\n",
       "      <td>...</td>\n",
       "      <td>...</td>\n",
       "      <td>...</td>\n",
       "      <td>...</td>\n",
       "      <td>...</td>\n",
       "      <td>...</td>\n",
       "      <td>...</td>\n",
       "    </tr>\n",
       "    <tr>\n",
       "      <th>11616980</th>\n",
       "      <td>11616980</td>\n",
       "      <td>0.383500</td>\n",
       "      <td>0.384600</td>\n",
       "      <td>0.382200</td>\n",
       "      <td>0.382300</td>\n",
       "      <td>1.034750e+05</td>\n",
       "      <td>2024-07-20 19:59:59.999</td>\n",
       "      <td>3.966936e+04</td>\n",
       "      <td>338.0</td>\n",
       "      <td>3.210900e+04</td>\n",
       "      <td>1.231209e+04</td>\n",
       "      <td>0</td>\n",
       "      <td>ZRXUSDT</td>\n",
       "      <td>spot</td>\n",
       "      <td>1h</td>\n",
       "      <td>False</td>\n",
       "      <td>2024-07-20 19:00:00</td>\n",
       "    </tr>\n",
       "    <tr>\n",
       "      <th>11616981</th>\n",
       "      <td>11616981</td>\n",
       "      <td>0.382400</td>\n",
       "      <td>0.384600</td>\n",
       "      <td>0.382100</td>\n",
       "      <td>0.384500</td>\n",
       "      <td>1.406440e+05</td>\n",
       "      <td>2024-07-20 20:59:59.999</td>\n",
       "      <td>5.398785e+04</td>\n",
       "      <td>247.0</td>\n",
       "      <td>1.084860e+05</td>\n",
       "      <td>4.164543e+04</td>\n",
       "      <td>0</td>\n",
       "      <td>ZRXUSDT</td>\n",
       "      <td>spot</td>\n",
       "      <td>1h</td>\n",
       "      <td>False</td>\n",
       "      <td>2024-07-20 20:00:00</td>\n",
       "    </tr>\n",
       "    <tr>\n",
       "      <th>11616982</th>\n",
       "      <td>11616982</td>\n",
       "      <td>0.384600</td>\n",
       "      <td>0.384700</td>\n",
       "      <td>0.380500</td>\n",
       "      <td>0.382600</td>\n",
       "      <td>1.876160e+05</td>\n",
       "      <td>2024-07-20 21:59:59.999</td>\n",
       "      <td>7.160919e+04</td>\n",
       "      <td>427.0</td>\n",
       "      <td>8.741200e+04</td>\n",
       "      <td>3.335078e+04</td>\n",
       "      <td>0</td>\n",
       "      <td>ZRXUSDT</td>\n",
       "      <td>spot</td>\n",
       "      <td>1h</td>\n",
       "      <td>False</td>\n",
       "      <td>2024-07-20 21:00:00</td>\n",
       "    </tr>\n",
       "    <tr>\n",
       "      <th>11616983</th>\n",
       "      <td>11616983</td>\n",
       "      <td>0.382700</td>\n",
       "      <td>0.383000</td>\n",
       "      <td>0.380300</td>\n",
       "      <td>0.381600</td>\n",
       "      <td>8.966100e+04</td>\n",
       "      <td>2024-07-20 22:59:59.999</td>\n",
       "      <td>3.422342e+04</td>\n",
       "      <td>313.0</td>\n",
       "      <td>3.741500e+04</td>\n",
       "      <td>1.427757e+04</td>\n",
       "      <td>0</td>\n",
       "      <td>ZRXUSDT</td>\n",
       "      <td>spot</td>\n",
       "      <td>1h</td>\n",
       "      <td>False</td>\n",
       "      <td>2024-07-20 22:00:00</td>\n",
       "    </tr>\n",
       "    <tr>\n",
       "      <th>11616984</th>\n",
       "      <td>11616984</td>\n",
       "      <td>0.381600</td>\n",
       "      <td>0.383600</td>\n",
       "      <td>0.381200</td>\n",
       "      <td>0.382800</td>\n",
       "      <td>3.861400e+04</td>\n",
       "      <td>2024-07-20 23:59:59.999</td>\n",
       "      <td>1.477231e+04</td>\n",
       "      <td>135.0</td>\n",
       "      <td>2.115600e+04</td>\n",
       "      <td>8.091944e+03</td>\n",
       "      <td>0</td>\n",
       "      <td>ZRXUSDT</td>\n",
       "      <td>spot</td>\n",
       "      <td>1h</td>\n",
       "      <td>False</td>\n",
       "      <td>2024-07-20 23:00:00</td>\n",
       "    </tr>\n",
       "  </tbody>\n",
       "</table>\n",
       "<p>11616985 rows × 17 columns</p>\n",
       "</div>"
      ],
      "text/plain": [
       "          Unnamed: 0  open_price  high_price  low_price  close_price  \\\n",
       "0                  0    0.000243    0.000692   0.000243     0.000537   \n",
       "1                  1    0.000537    0.000579   0.000519     0.000532   \n",
       "2                  2    0.000532    0.000555   0.000486     0.000500   \n",
       "3                  3    0.000500    0.000509   0.000443     0.000503   \n",
       "4                  4    0.000503    0.000529   0.000483     0.000504   \n",
       "...              ...         ...         ...        ...          ...   \n",
       "11616980    11616980    0.383500    0.384600   0.382200     0.382300   \n",
       "11616981    11616981    0.382400    0.384600   0.382100     0.384500   \n",
       "11616982    11616982    0.384600    0.384700   0.380500     0.382600   \n",
       "11616983    11616983    0.382700    0.383000   0.380300     0.381600   \n",
       "11616984    11616984    0.381600    0.383600   0.381200     0.382800   \n",
       "\n",
       "                volume          close_timestamp  quote_asset_volume  \\\n",
       "0         2.334397e+11  2023-12-12 12:59:59.999        1.380930e+08   \n",
       "1         6.691411e+10  2023-12-12 13:59:59.999        3.696425e+07   \n",
       "2         5.686273e+10  2023-12-12 14:59:59.999        2.927274e+07   \n",
       "3         7.392856e+10  2023-12-12 15:59:59.999        3.498529e+07   \n",
       "4         5.175700e+10  2023-12-12 16:59:59.999        2.636492e+07   \n",
       "...                ...                      ...                 ...   \n",
       "11616980  1.034750e+05  2024-07-20 19:59:59.999        3.966936e+04   \n",
       "11616981  1.406440e+05  2024-07-20 20:59:59.999        5.398785e+04   \n",
       "11616982  1.876160e+05  2024-07-20 21:59:59.999        7.160919e+04   \n",
       "11616983  8.966100e+04  2024-07-20 22:59:59.999        3.422342e+04   \n",
       "11616984  3.861400e+04  2024-07-20 23:59:59.999        1.477231e+04   \n",
       "\n",
       "          number_of_trade         tbbav         tbqav  ignore        symbol  \\\n",
       "0                370089.0  1.260450e+11  7.453887e+07       0  1000SATSUSDT   \n",
       "1                114049.0  3.189214e+10  1.765706e+07       0  1000SATSUSDT   \n",
       "2                 90774.0  2.769634e+10  1.425496e+07       0  1000SATSUSDT   \n",
       "3                101216.0  3.438372e+10  1.630035e+07       0  1000SATSUSDT   \n",
       "4                 82686.0  2.604044e+10  1.328257e+07       0  1000SATSUSDT   \n",
       "...                   ...           ...           ...     ...           ...   \n",
       "11616980            338.0  3.210900e+04  1.231209e+04       0       ZRXUSDT   \n",
       "11616981            247.0  1.084860e+05  4.164543e+04       0       ZRXUSDT   \n",
       "11616982            427.0  8.741200e+04  3.335078e+04       0       ZRXUSDT   \n",
       "11616983            313.0  3.741500e+04  1.427757e+04       0       ZRXUSDT   \n",
       "11616984            135.0  2.115600e+04  8.091944e+03       0       ZRXUSDT   \n",
       "\n",
       "          type interval  missing       open_timestamp  \n",
       "0         spot       1h    False  2023-12-12 12:00:00  \n",
       "1         spot       1h    False  2023-12-12 13:00:00  \n",
       "2         spot       1h    False  2023-12-12 14:00:00  \n",
       "3         spot       1h    False  2023-12-12 15:00:00  \n",
       "4         spot       1h    False  2023-12-12 16:00:00  \n",
       "...        ...      ...      ...                  ...  \n",
       "11616980  spot       1h    False  2024-07-20 19:00:00  \n",
       "11616981  spot       1h    False  2024-07-20 20:00:00  \n",
       "11616982  spot       1h    False  2024-07-20 21:00:00  \n",
       "11616983  spot       1h    False  2024-07-20 22:00:00  \n",
       "11616984  spot       1h    False  2024-07-20 23:00:00  \n",
       "\n",
       "[11616985 rows x 17 columns]"
      ]
     },
     "execution_count": 6,
     "metadata": {},
     "output_type": "execute_result"
    }
   ],
   "source": [
    "df"
   ]
  },
  {
   "cell_type": "code",
   "execution_count": 3,
   "id": "7bff3e03-5aec-4444-9201-98493e751652",
   "metadata": {},
   "outputs": [
    {
     "name": "stdout",
     "output_type": "stream",
     "text": [
      "Converted /Volumes/Extreme SSD/BigData/Project/Data_csv/spot_1h.csv to /Volumes/Extreme SSD/BigData/Project/Data_parquet/spot_1h.parquet\n",
      "Converted /Volumes/Extreme SSD/BigData/Project/Data_csv/spot_30m.csv to /Volumes/Extreme SSD/BigData/Project/Data_parquet/spot_30m.parquet\n",
      "Converted /Volumes/Extreme SSD/BigData/Project/Data_csv/spot_15m.csv to /Volumes/Extreme SSD/BigData/Project/Data_parquet/spot_15m.parquet\n",
      "Converted /Volumes/Extreme SSD/BigData/Project/Data_csv/spot_5m.csv to /Volumes/Extreme SSD/BigData/Project/Data_parquet/spot_5m.parquet\n",
      "Converted /Volumes/Extreme SSD/BigData/Project/Data_csv/um_1h.csv to /Volumes/Extreme SSD/BigData/Project/Data_parquet/um_1h.parquet\n",
      "Converted /Volumes/Extreme SSD/BigData/Project/Data_csv/um_30m.csv to /Volumes/Extreme SSD/BigData/Project/Data_parquet/um_30m.parquet\n",
      "Converted /Volumes/Extreme SSD/BigData/Project/Data_csv/um_15m.csv to /Volumes/Extreme SSD/BigData/Project/Data_parquet/um_15m.parquet\n",
      "Converted /Volumes/Extreme SSD/BigData/Project/Data_csv/um_5m.csv to /Volumes/Extreme SSD/BigData/Project/Data_parquet/um_5m.parquet\n"
     ]
    }
   ],
   "source": [
    "import pandas as pd\n",
    "import os\n",
    "import pyarrow as pa\n",
    "import pyarrow.parquet as pq\n",
    "\n",
    "\n",
    "csv_dir = \"/Volumes/Extreme SSD/BigData/Project/Data_csv/\"\n",
    "\n",
    "\n",
    "parquet_dir = \"/Volumes/Extreme SSD/BigData/Project/Data_parquet/\"\n",
    "\n",
    "\n",
    "os.makedirs(parquet_dir, exist_ok=True)\n",
    "\n",
    "\n",
    "chunk_size = 10_00_000  \n",
    "\n",
    "\n",
    "for file in os.listdir(csv_dir):\n",
    "    if file.endswith(\".csv\"):\n",
    "        csv_path = os.path.join(csv_dir, file)\n",
    "        parquet_path = os.path.join(parquet_dir, file.replace(\".csv\", \".parquet\"))\n",
    "        \n",
    "\n",
    "        writer = None\n",
    "        for chunk in pd.read_csv(csv_path, chunksize=chunk_size):\n",
    "            table = pa.Table.from_pandas(chunk)\n",
    "            \n",
    "            if writer is None:\n",
    "                writer = pq.ParquetWriter(parquet_path, table.schema)\n",
    "            \n",
    "            writer.write_table(table)\n",
    "        \n",
    "        if writer:\n",
    "            writer.close()\n",
    "        \n",
    "        print(f\"Converted {csv_path} to {parquet_path}\")\n"
   ]
  },
  {
   "cell_type": "markdown",
   "id": "23808f85-80d4-47ca-a3d2-222e1be3d6fd",
   "metadata": {},
   "source": [
    "## QUERIES USING PYSPARK"
   ]
  },
  {
   "cell_type": "code",
   "execution_count": 37,
   "id": "74d246cf-843a-4dd1-8afe-fba547f376ae",
   "metadata": {},
   "outputs": [],
   "source": [
    "from pyspark.sql import SparkSession\n",
    "\n",
    "spark = SparkSession.builder \\\n",
    "    .appName(\"CombineParquetDatasets\") \\\n",
    "    .config(\"spark.executor.memory\", \"8g\") \\\n",
    "    .config(\"spark.driver.memory\", \"8g\") \\\n",
    "    .config(\"spark.executor.cores\", \"4\") \\\n",
    "    .getOrCreate()"
   ]
  },
  {
   "cell_type": "code",
   "execution_count": 24,
   "id": "5a4a78f1-18a6-4422-b3f6-65d9012746d7",
   "metadata": {},
   "outputs": [],
   "source": [
    "spot_df = spark.read.parquet(\"/Volumes/Extreme SSD/BigData/Project/Data_parquet/spot_*.parquet\")\n",
    "spot_df.createOrReplaceTempView(\"spot_data\")"
   ]
  },
  {
   "cell_type": "code",
   "execution_count": 33,
   "id": "4db5c6b5-a813-40f0-b755-1f84774c2707",
   "metadata": {},
   "outputs": [
    {
     "name": "stdout",
     "output_type": "stream",
     "text": [
      "Weekly Volatility Analysis:\n"
     ]
    },
    {
     "name": "stderr",
     "output_type": "stream",
     "text": [
      "[Stage 62:>                                                         (0 + 8) / 8]\r"
     ]
    },
    {
     "name": "stdout",
     "output_type": "stream",
     "text": [
      "+--------+-------------------+----+-----------+-----------------------+------------------------+\n",
      "|  symbol|         week_start|year|week_number|weekly_range_volatility|weekly_return_volatility|\n",
      "+--------+-------------------+----+-----------+-----------------------+------------------------+\n",
      "| ADAUSDT|2019-12-30 00:00:00|2020|          1|       9.15252731195111|       5.327245053272456|\n",
      "| FETUSDT|2019-12-30 00:00:00|2020|          1|     17.750203151489064|      3.3306473274241153|\n",
      "|ANKRUSDT|2019-12-30 00:00:00|2020|          1|     16.379038809038324|      -2.151283830673143|\n",
      "| FUNUSDT|2019-12-30 00:00:00|2020|          1|     10.494594889098483|     0.03156565656566076|\n",
      "| CVCUSDT|2019-12-30 00:00:00|2020|          1|      19.59364519908441|      2.0810514786418506|\n",
      "| FTMUSDT|2019-12-30 00:00:00|2020|          1|      8.287739485212546|      -3.044280442804432|\n",
      "| BNBUSDT|2019-12-30 00:00:00|2020|          1|      9.742833687039603|      2.4591896995457887|\n",
      "| COSUSDT|2019-12-30 00:00:00|2020|          1|      9.386099147415141|      -2.258064516129015|\n",
      "|DASHUSDT|2019-12-30 00:00:00|2020|          1|     30.527580131136773|      24.289531212047606|\n",
      "|DENTUSDT|2019-12-30 00:00:00|2020|          1|     11.255689078677786|      3.2766225582860686|\n",
      "+--------+-------------------+----+-----------+-----------------------+------------------------+\n",
      "only showing top 10 rows\n",
      "\n"
     ]
    },
    {
     "name": "stderr",
     "output_type": "stream",
     "text": [
      "                                                                                \r"
     ]
    }
   ],
   "source": [
    "weekly_vol = spark.sql(\"\"\"\n",
    "WITH weekly_prices AS (\n",
    "    SELECT \n",
    "        symbol,\n",
    "        date_trunc('week', open_timestamp) as week_start,\n",
    "        weekofyear(open_timestamp) as week_number,\n",
    "        year(open_timestamp) as year,\n",
    "        max(high_price) as weekly_high,\n",
    "        min(low_price) as weekly_low,\n",
    "        first(open_price) as weekly_open,\n",
    "        last(close_price) as weekly_close,\n",
    "        avg(close_price) as avg_price\n",
    "    FROM spot_data\n",
    "    GROUP BY \n",
    "        symbol,\n",
    "        date_trunc('week', open_timestamp),\n",
    "        weekofyear(open_timestamp),\n",
    "        year(open_timestamp)\n",
    ")\n",
    "SELECT \n",
    "    symbol,\n",
    "    week_start,\n",
    "    year,\n",
    "    week_number,\n",
    "    ((weekly_high - weekly_low) / avg_price) * 100 as weekly_range_volatility,\n",
    "    ((weekly_close - weekly_open) / weekly_open) * 100 as weekly_return_volatility\n",
    "FROM weekly_prices\n",
    "ORDER BY year, week_number\n",
    "\"\"\")\n",
    "\n",
    "print(\"Weekly Volatility Analysis:\")\n",
    "weekly_vol.show(10)"
   ]
  },
  {
   "cell_type": "code",
   "execution_count": 38,
   "id": "4de2659a-e4ce-4210-bfbf-095199a9e3ce",
   "metadata": {},
   "outputs": [
    {
     "name": "stdout",
     "output_type": "stream",
     "text": [
      "Best Trading Hours Analysis:\n"
     ]
    },
    {
     "name": "stderr",
     "output_type": "stream",
     "text": [
      "[Stage 74:>                                                         (0 + 3) / 3]\r"
     ]
    },
    {
     "name": "stdout",
     "output_type": "stream",
     "text": [
      "+-----------+-----------+-----------------------+------------------+-------------------+--------------------+\n",
      "|     symbol|hour_of_day|avg_price_range_percent|        avg_trades|         avg_volume|    avg_quote_volume|\n",
      "+-----------+-----------+-----------------------+------------------+-------------------+--------------------+\n",
      "|UNIDOWNUSDT|         00|     1956.5160064108395| 94.82206071972806|3.624272201190135E7|  23727.705017675988|\n",
      "|     IOUSDT|         12|     52.480662524842934|6034.1578947368425|  513333.6517368422|  2011720.6621200012|\n",
      "|    PAXUSDT|         01|       34.1989768998584| 58.49627727856226| 57760.863851091235|   57790.96759072933|\n",
      "|   SAGAUSDT|         08|     31.455914901483524|3021.5125191619827|  236751.2942258559|   951997.2006818394|\n",
      "|  LISTAUSDT|         10|     27.229898238400438| 6120.251273344652| 2065081.5151103563|   1375843.578238777|\n",
      "| BANANAUSDT|         09|     23.725295370405544|32353.894736842107| 145128.74673684212|1.0190472059913686E7|\n",
      "|   TNSRUSDT|         15|     19.162766280462876| 1960.174885612608|  385953.5154041686|   461521.9905629284|\n",
      "|    NOTUSDT|         12|     16.306839156271465|13179.818181818182|2.659352455215311E8|   3669795.634994276|\n",
      "|    DARUSDT|         08|     16.253099766707923| 678.7013290802764|   270184.642317916|   212174.0676988624|\n",
      "| PORTALUSDT|         10|     13.442931468807059| 2191.595141700405| 293223.79330143565|   603807.3937814814|\n",
      "+-----------+-----------+-----------------------+------------------+-------------------+--------------------+\n",
      "only showing top 10 rows\n",
      "\n"
     ]
    },
    {
     "name": "stderr",
     "output_type": "stream",
     "text": [
      "                                                                                \r"
     ]
    }
   ],
   "source": [
    "trading_hours = spark.sql(\"\"\"\n",
    "SELECT \n",
    "    symbol,\n",
    "    date_format(open_timestamp, 'HH') as hour_of_day,\n",
    "    avg((high_price - low_price) / open_price * 100) as avg_price_range_percent,\n",
    "    avg(number_of_trade) as avg_trades,\n",
    "    avg(volume) as avg_volume,\n",
    "    avg(quote_asset_volume) as avg_quote_volume\n",
    "FROM spot_data\n",
    "GROUP BY symbol, date_format(open_timestamp, 'HH')\n",
    "ORDER BY avg_price_range_percent DESC\n",
    "\"\"\")\n",
    "\n",
    "print(\"Best Trading Hours Analysis:\")\n",
    "trading_hours.show(10)"
   ]
  },
  {
   "cell_type": "code",
   "execution_count": 61,
   "id": "74b57e9b-cac7-4863-afce-6cc172f38924",
   "metadata": {},
   "outputs": [
    {
     "name": "stdout",
     "output_type": "stream",
     "text": [
      "Year-wise Performance Analysis:\n"
     ]
    },
    {
     "name": "stderr",
     "output_type": "stream",
     "text": [
      "[Stage 156:>                                                        (0 + 1) / 1]\r"
     ]
    },
    {
     "name": "stdout",
     "output_type": "stream",
     "text": [
      "+----------+----------+-------------+--------------+----------+\n",
      "|trade_year|    symbol|yearly_return|avg_volatility|avg_volume|\n",
      "+----------+----------+-------------+--------------+----------+\n",
      "|      2024|  SAGAUSDT|      18722.0|          2.21|  108958.6|\n",
      "|      2024|   ALTUSDT|     11034.17|          1.15|1092455.44|\n",
      "|      2024|    IOUSDT|     10638.33|          3.36| 243916.86|\n",
      "|      2024|   XAIUSDT|       7847.0|          1.11| 338939.92|\n",
      "|      2024| MANTAUSDT|       7838.0|           1.1| 184173.31|\n",
      "|      2024|    AIUSDT|       7790.0|          1.25| 213249.87|\n",
      "|      2024|  TNSRUSDT|       7353.0|          1.76| 251254.04|\n",
      "|      2024|PORTALUSDT|       6220.2|          1.46| 183550.45|\n",
      "|      2024|   JUPUSDT|       6043.0|           0.9| 482566.11|\n",
      "|      2024| STRAXUSDT|      4982.39|          0.76| 207473.27|\n",
      "+----------+----------+-------------+--------------+----------+\n",
      "only showing top 10 rows\n",
      "\n"
     ]
    },
    {
     "name": "stderr",
     "output_type": "stream",
     "text": [
      "                                                                                \r"
     ]
    }
   ],
   "source": [
    "# Year-wise performance for all cryptocurrencies\n",
    "yearly_analysis = spark.sql(\"\"\"\n",
    "WITH yearly_stats AS (\n",
    "    SELECT \n",
    "        symbol,\n",
    "        YEAR(open_timestamp) as trade_year,\n",
    "        MIN(open_price) as year_start_price,\n",
    "        MAX(close_price) as year_end_price,\n",
    "        AVG(volume) as avg_daily_volume,\n",
    "        AVG((high_price - low_price)/open_price) * 100 as avg_volatility\n",
    "    FROM spot_data\n",
    "    GROUP BY symbol, YEAR(open_timestamp)\n",
    ")\n",
    "SELECT \n",
    "    trade_year,\n",
    "    symbol,\n",
    "    ROUND(((year_end_price - year_start_price)/year_start_price * 100), 2) as yearly_return,\n",
    "    ROUND(avg_volatility, 2) as avg_volatility,\n",
    "    ROUND(avg_daily_volume, 2) as avg_volume\n",
    "FROM yearly_stats\n",
    "ORDER BY trade_year DESC, yearly_return DESC\n",
    "\"\"\")\n",
    "\n",
    "print(\"Year-wise Performance Analysis:\")\n",
    "yearly_analysis.show(10)"
   ]
  },
  {
   "cell_type": "code",
   "execution_count": 62,
   "id": "5a0417ef-a018-4bdd-8f9c-b5b6315a84cc",
   "metadata": {},
   "outputs": [
    {
     "name": "stderr",
     "output_type": "stream",
     "text": [
      "                                                                                \r"
     ]
    }
   ],
   "source": [
    "yearly_analysis.coalesce(1).write.option(\"header\", \"true\").csv(\"/Volumes/Extreme SSD/BigData/Project/Visualisation_data/yearly_analysis\")"
   ]
  },
  {
   "cell_type": "code",
   "execution_count": null,
   "id": "940d281d-9d45-4723-ba38-164033a24d0f",
   "metadata": {},
   "outputs": [],
   "source": []
  }
 ],
 "metadata": {
  "kernelspec": {
   "display_name": "Python 3 (ipykernel)",
   "language": "python",
   "name": "python3"
  },
  "language_info": {
   "codemirror_mode": {
    "name": "ipython",
    "version": 3
   },
   "file_extension": ".py",
   "mimetype": "text/x-python",
   "name": "python",
   "nbconvert_exporter": "python",
   "pygments_lexer": "ipython3",
   "version": "3.12.7"
  }
 },
 "nbformat": 4,
 "nbformat_minor": 5
}
